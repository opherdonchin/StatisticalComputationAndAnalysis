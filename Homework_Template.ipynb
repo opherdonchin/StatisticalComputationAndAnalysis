{
  "cells": [
    {
      "cell_type": "markdown",
      "metadata": {
        "id": "etmQGsPuti0B"
      },
      "source": [
        "# Lecture X - Easy / Hard problem\n",
        "## BMCP / BAP / SR XHXXX\n",
        "\n",
        "Please put the statement of the problem here. You can copy / paste or summarize however you like."
      ]
    },
    {
      "cell_type": "markdown",
      "source": [
        "## Discussion of results\n",
        "\n",
        "Once you are done with the homework, please add a section at the top where you say what you actually found."
      ],
      "metadata": {
        "id": "19ynr9SZZ8H-"
      }
    },
    {
      "cell_type": "markdown",
      "metadata": {
        "id": "42PATVBcWDfp"
      },
      "source": [
        "## Setup\n",
        "\n",
        "This section is for imports and such"
      ]
    },
    {
      "cell_type": "code",
      "execution_count": null,
      "metadata": {
        "id": "9HROfAWTkmxR"
      },
      "outputs": [],
      "source": [
        "%matplotlib inline\n",
        "import arviz as az\n",
        "import matplotlib.pyplot as plt\n",
        "import pymc as pm\n",
        "import numpy as np\n",
        "import pandas as pd\n",
        "from scipy import stats\n",
        "import seaborn as sns"
      ]
    },
    {
      "cell_type": "code",
      "execution_count": null,
      "metadata": {
        "id": "pcaQVBWEWTp2"
      },
      "outputs": [],
      "source": [
        "az.style.use(\"arviz-darkgrid\")\n",
        "sns.set_style(\"darkgrid\")"
      ]
    },
    {
      "cell_type": "markdown",
      "source": [
        "## Load data\n",
        "\n",
        "It helps to have the data loading separated out"
      ],
      "metadata": {
        "id": "JYk5pNtJICZX"
      }
    },
    {
      "cell_type": "markdown",
      "metadata": {
        "id": "UXvrWVOYloGi"
      },
      "source": [
        "## 1. First part of homework\n",
        "\n",
        "please use \"second level\" headings tos separate the different homework pieces. Use third level and below to split up your work so I can understand it.\n"
      ]
    },
    {
      "cell_type": "markdown",
      "source": [
        "## 2. Second part of homework"
      ],
      "metadata": {
        "id": "IgvUpJ7EexvR"
      }
    },
    {
      "cell_type": "markdown",
      "source": [
        "## 3. Third part of homework"
      ],
      "metadata": {
        "id": "mMqgbcelezuD"
      }
    },
    {
      "cell_type": "markdown",
      "source": [
        "# Watermark\n",
        "\n",
        "Please include this watermark so I can see what versions you are working with"
      ],
      "metadata": {
        "id": "c6H-b1Xgb0r0"
      }
    },
    {
      "cell_type": "code",
      "execution_count": null,
      "metadata": {
        "id": "6oB8MvUNikXu"
      },
      "outputs": [],
      "source": [
        "%%capture\n",
        "!pip install watermark"
      ]
    },
    {
      "cell_type": "code",
      "execution_count": null,
      "metadata": {
        "id": "Wj572U3ZibH-"
      },
      "outputs": [],
      "source": [
        "%load_ext watermark\n",
        "%watermark -v -iv -w"
      ]
    }
  ],
  "metadata": {
    "colab": {
      "provenance": [],
      "toc_visible": true
    },
    "kernelspec": {
      "display_name": "Python 3.10.4 ('pymc_env')",
      "language": "python",
      "name": "python3"
    },
    "language_info": {
      "codemirror_mode": {
        "name": "ipython",
        "version": 3
      },
      "file_extension": ".py",
      "mimetype": "text/x-python",
      "name": "python",
      "nbconvert_exporter": "python",
      "pygments_lexer": "ipython3",
      "version": "3.10.4"
    },
    "vscode": {
      "interpreter": {
        "hash": "29be4ec527eefcfcdbb5e610d7c876ee52e6a391fc3ee8707ae75a00c97986e5"
      }
    }
  },
  "nbformat": 4,
  "nbformat_minor": 0
}